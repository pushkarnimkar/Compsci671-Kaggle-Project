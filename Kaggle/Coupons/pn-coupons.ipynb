{
 "cells": [
  {
   "cell_type": "code",
   "execution_count": 1,
   "metadata": {
    "_cell_guid": "b1076dfc-b9ad-4769-8c92-a6c4dae69d19",
    "_uuid": "8f2839f25d086af736a60e9eeb907d3b93b6e0e5",
    "execution": {
     "iopub.execute_input": "2021-12-11T02:59:53.686669Z",
     "iopub.status.busy": "2021-12-11T02:59:53.686333Z",
     "iopub.status.idle": "2021-12-11T02:59:53.730460Z",
     "shell.execute_reply": "2021-12-11T02:59:53.729433Z",
     "shell.execute_reply.started": "2021-12-11T02:59:53.686578Z"
    }
   },
   "outputs": [],
   "source": [
    "# This Python 3 environment comes with many helpful analytics libraries installed\n",
    "# It is defined by the kaggle/python Docker image: https://github.com/kaggle/docker-python\n",
    "# For example, here's several helpful packages to load\n",
    "\n",
    "import numpy as np # linear algebra\n",
    "import pandas as pd # data processing, CSV file I/O (e.g. pd.read_csv)\n",
    "\n",
    "# Input data files are available in the read-only \"../input/\" directory\n",
    "# For example, running this (by clicking run or pressing Shift+Enter) will list all files under the input directory\n",
    "\n",
    "# import os\n",
    "# for dirname, _, filenames in os.walk('/kaggle/input'):\n",
    "#     for filename in filenames:\n",
    "#         print(os.path.join(dirname, filename))\n",
    "\n",
    "# You can write up to 20GB to the current directory (/kaggle/working/) that gets preserved as output when you create a version using \"Save & Run All\" \n",
    "# You can also write temporary files to /kaggle/temp/, but they won't be saved outside of the current session"
   ]
  },
  {
   "cell_type": "code",
   "execution_count": 2,
   "metadata": {
    "execution": {
     "iopub.execute_input": "2021-12-11T03:25:15.178491Z",
     "iopub.status.busy": "2021-12-11T03:25:15.178216Z",
     "iopub.status.idle": "2021-12-11T03:25:15.185568Z",
     "shell.execute_reply": "2021-12-11T03:25:15.184817Z",
     "shell.execute_reply.started": "2021-12-11T03:25:15.178463Z"
    }
   },
   "outputs": [],
   "source": [
    "from tqdm.auto import tqdm\n",
    "from sklearn.naive_bayes import BernoulliNB, GaussianNB\n",
    "from sklearn.decomposition import PCA, FastICA\n",
    "from sklearn.preprocessing import MinMaxScaler\n",
    "from sklearn.linear_model import LogisticRegression\n",
    "from sklearn.model_selection import train_test_split\n",
    "from sklearn.ensemble import RandomForestClassifier, AdaBoostClassifier\n",
    "import seaborn as sns\n",
    "from matplotlib import pyplot as plt\n",
    "import statsmodels.api as sm\n",
    "\n",
    "from sklearn.ensemble import GradientBoostingClassifier\n",
    "from sklearn.neighbors import KNeighborsClassifier\n",
    "from sklearn.manifold import TSNE\n",
    "import time\n",
    "from sklearn.model_selection import cross_val_score\n",
    "from sklearn.metrics import roc_auc_score, f1_score"
   ]
  },
  {
   "cell_type": "code",
   "execution_count": 3,
   "metadata": {
    "execution": {
     "iopub.execute_input": "2021-12-11T02:59:55.997495Z",
     "iopub.status.busy": "2021-12-11T02:59:55.997191Z",
     "iopub.status.idle": "2021-12-11T02:59:56.073260Z",
     "shell.execute_reply": "2021-12-11T02:59:56.072380Z",
     "shell.execute_reply.started": "2021-12-11T02:59:55.997434Z"
    }
   },
   "outputs": [],
   "source": [
    "train = pd.read_csv('data/train.csv')"
   ]
  },
  {
   "cell_type": "code",
   "execution_count": 4,
   "metadata": {
    "execution": {
     "iopub.execute_input": "2021-12-11T02:59:56.075900Z",
     "iopub.status.busy": "2021-12-11T02:59:56.075554Z",
     "iopub.status.idle": "2021-12-11T02:59:56.140094Z",
     "shell.execute_reply": "2021-12-11T02:59:56.139224Z",
     "shell.execute_reply.started": "2021-12-11T02:59:56.075857Z"
    }
   },
   "outputs": [
    {
     "data": {
      "text/html": [
       "<div>\n",
       "<style scoped>\n",
       "    .dataframe tbody tr th:only-of-type {\n",
       "        vertical-align: middle;\n",
       "    }\n",
       "\n",
       "    .dataframe tbody tr th {\n",
       "        vertical-align: top;\n",
       "    }\n",
       "\n",
       "    .dataframe thead th {\n",
       "        text-align: right;\n",
       "    }\n",
       "</style>\n",
       "<table border=\"1\" class=\"dataframe\">\n",
       "  <thead>\n",
       "    <tr style=\"text-align: right;\">\n",
       "      <th></th>\n",
       "      <th>id</th>\n",
       "      <th>Decision</th>\n",
       "      <th>Temperature</th>\n",
       "      <th>Children</th>\n",
       "      <th>Bar</th>\n",
       "      <th>Coffeehouse</th>\n",
       "      <th>Carryaway</th>\n",
       "      <th>Restaurantlessthan20</th>\n",
       "      <th>Restaurant20to50</th>\n",
       "      <th>Direction_same</th>\n",
       "      <th>Distance</th>\n",
       "    </tr>\n",
       "  </thead>\n",
       "  <tbody>\n",
       "    <tr>\n",
       "      <th>count</th>\n",
       "      <td>10184.000000</td>\n",
       "      <td>10184.000000</td>\n",
       "      <td>10184.000000</td>\n",
       "      <td>10184.000000</td>\n",
       "      <td>10091.000000</td>\n",
       "      <td>10002.000000</td>\n",
       "      <td>10059.000000</td>\n",
       "      <td>10079.000000</td>\n",
       "      <td>10033.000000</td>\n",
       "      <td>10184.000000</td>\n",
       "      <td>10184.000000</td>\n",
       "    </tr>\n",
       "    <tr>\n",
       "      <th>mean</th>\n",
       "      <td>5092.500000</td>\n",
       "      <td>0.569914</td>\n",
       "      <td>63.361155</td>\n",
       "      <td>0.414277</td>\n",
       "      <td>1.038846</td>\n",
       "      <td>1.574285</td>\n",
       "      <td>2.416741</td>\n",
       "      <td>2.283064</td>\n",
       "      <td>1.269909</td>\n",
       "      <td>0.211115</td>\n",
       "      <td>1.684309</td>\n",
       "    </tr>\n",
       "    <tr>\n",
       "      <th>std</th>\n",
       "      <td>2940.011905</td>\n",
       "      <td>0.495112</td>\n",
       "      <td>19.137079</td>\n",
       "      <td>0.492621</td>\n",
       "      <td>1.095480</td>\n",
       "      <td>1.238135</td>\n",
       "      <td>0.929992</td>\n",
       "      <td>0.919968</td>\n",
       "      <td>0.882393</td>\n",
       "      <td>0.408120</td>\n",
       "      <td>0.675322</td>\n",
       "    </tr>\n",
       "    <tr>\n",
       "      <th>min</th>\n",
       "      <td>1.000000</td>\n",
       "      <td>0.000000</td>\n",
       "      <td>30.000000</td>\n",
       "      <td>0.000000</td>\n",
       "      <td>0.000000</td>\n",
       "      <td>0.000000</td>\n",
       "      <td>0.000000</td>\n",
       "      <td>0.000000</td>\n",
       "      <td>0.000000</td>\n",
       "      <td>0.000000</td>\n",
       "      <td>1.000000</td>\n",
       "    </tr>\n",
       "    <tr>\n",
       "      <th>25%</th>\n",
       "      <td>2546.750000</td>\n",
       "      <td>0.000000</td>\n",
       "      <td>55.000000</td>\n",
       "      <td>0.000000</td>\n",
       "      <td>0.000000</td>\n",
       "      <td>1.000000</td>\n",
       "      <td>2.000000</td>\n",
       "      <td>2.000000</td>\n",
       "      <td>1.000000</td>\n",
       "      <td>0.000000</td>\n",
       "      <td>1.000000</td>\n",
       "    </tr>\n",
       "    <tr>\n",
       "      <th>50%</th>\n",
       "      <td>5092.500000</td>\n",
       "      <td>1.000000</td>\n",
       "      <td>80.000000</td>\n",
       "      <td>0.000000</td>\n",
       "      <td>1.000000</td>\n",
       "      <td>1.000000</td>\n",
       "      <td>2.000000</td>\n",
       "      <td>2.000000</td>\n",
       "      <td>1.000000</td>\n",
       "      <td>0.000000</td>\n",
       "      <td>2.000000</td>\n",
       "    </tr>\n",
       "    <tr>\n",
       "      <th>75%</th>\n",
       "      <td>7638.250000</td>\n",
       "      <td>1.000000</td>\n",
       "      <td>80.000000</td>\n",
       "      <td>1.000000</td>\n",
       "      <td>2.000000</td>\n",
       "      <td>2.000000</td>\n",
       "      <td>3.000000</td>\n",
       "      <td>3.000000</td>\n",
       "      <td>2.000000</td>\n",
       "      <td>0.000000</td>\n",
       "      <td>2.000000</td>\n",
       "    </tr>\n",
       "    <tr>\n",
       "      <th>max</th>\n",
       "      <td>10184.000000</td>\n",
       "      <td>1.000000</td>\n",
       "      <td>80.000000</td>\n",
       "      <td>1.000000</td>\n",
       "      <td>4.000000</td>\n",
       "      <td>4.000000</td>\n",
       "      <td>4.000000</td>\n",
       "      <td>4.000000</td>\n",
       "      <td>4.000000</td>\n",
       "      <td>1.000000</td>\n",
       "      <td>3.000000</td>\n",
       "    </tr>\n",
       "  </tbody>\n",
       "</table>\n",
       "</div>"
      ],
      "text/plain": [
       "                 id      Decision   Temperature      Children           Bar  \\\n",
       "count  10184.000000  10184.000000  10184.000000  10184.000000  10091.000000   \n",
       "mean    5092.500000      0.569914     63.361155      0.414277      1.038846   \n",
       "std     2940.011905      0.495112     19.137079      0.492621      1.095480   \n",
       "min        1.000000      0.000000     30.000000      0.000000      0.000000   \n",
       "25%     2546.750000      0.000000     55.000000      0.000000      0.000000   \n",
       "50%     5092.500000      1.000000     80.000000      0.000000      1.000000   \n",
       "75%     7638.250000      1.000000     80.000000      1.000000      2.000000   \n",
       "max    10184.000000      1.000000     80.000000      1.000000      4.000000   \n",
       "\n",
       "        Coffeehouse     Carryaway  Restaurantlessthan20  Restaurant20to50  \\\n",
       "count  10002.000000  10059.000000          10079.000000      10033.000000   \n",
       "mean       1.574285      2.416741              2.283064          1.269909   \n",
       "std        1.238135      0.929992              0.919968          0.882393   \n",
       "min        0.000000      0.000000              0.000000          0.000000   \n",
       "25%        1.000000      2.000000              2.000000          1.000000   \n",
       "50%        1.000000      2.000000              2.000000          1.000000   \n",
       "75%        2.000000      3.000000              3.000000          2.000000   \n",
       "max        4.000000      4.000000              4.000000          4.000000   \n",
       "\n",
       "       Direction_same      Distance  \n",
       "count    10184.000000  10184.000000  \n",
       "mean         0.211115      1.684309  \n",
       "std          0.408120      0.675322  \n",
       "min          0.000000      1.000000  \n",
       "25%          0.000000      1.000000  \n",
       "50%          0.000000      2.000000  \n",
       "75%          0.000000      2.000000  \n",
       "max          1.000000      3.000000  "
      ]
     },
     "execution_count": 4,
     "metadata": {},
     "output_type": "execute_result"
    }
   ],
   "source": [
    "train.describe()"
   ]
  },
  {
   "cell_type": "code",
   "execution_count": 5,
   "metadata": {
    "execution": {
     "iopub.execute_input": "2021-12-11T02:59:56.141883Z",
     "iopub.status.busy": "2021-12-11T02:59:56.141571Z",
     "iopub.status.idle": "2021-12-11T02:59:56.175699Z",
     "shell.execute_reply": "2021-12-11T02:59:56.174885Z",
     "shell.execute_reply.started": "2021-12-11T02:59:56.141840Z"
    }
   },
   "outputs": [
    {
     "data": {
      "text/html": [
       "<div>\n",
       "<style scoped>\n",
       "    .dataframe tbody tr th:only-of-type {\n",
       "        vertical-align: middle;\n",
       "    }\n",
       "\n",
       "    .dataframe tbody tr th {\n",
       "        vertical-align: top;\n",
       "    }\n",
       "\n",
       "    .dataframe thead th {\n",
       "        text-align: right;\n",
       "    }\n",
       "</style>\n",
       "<table border=\"1\" class=\"dataframe\">\n",
       "  <thead>\n",
       "    <tr style=\"text-align: right;\">\n",
       "      <th></th>\n",
       "      <th>column</th>\n",
       "      <th>count</th>\n",
       "      <th>dtype</th>\n",
       "    </tr>\n",
       "  </thead>\n",
       "  <tbody>\n",
       "    <tr>\n",
       "      <th>0</th>\n",
       "      <td>id</td>\n",
       "      <td>10184</td>\n",
       "      <td>int64</td>\n",
       "    </tr>\n",
       "    <tr>\n",
       "      <th>1</th>\n",
       "      <td>Decision</td>\n",
       "      <td>2</td>\n",
       "      <td>int64</td>\n",
       "    </tr>\n",
       "    <tr>\n",
       "      <th>2</th>\n",
       "      <td>Driving_to</td>\n",
       "      <td>3</td>\n",
       "      <td>object</td>\n",
       "    </tr>\n",
       "    <tr>\n",
       "      <th>3</th>\n",
       "      <td>Passanger</td>\n",
       "      <td>4</td>\n",
       "      <td>object</td>\n",
       "    </tr>\n",
       "    <tr>\n",
       "      <th>4</th>\n",
       "      <td>Weather</td>\n",
       "      <td>3</td>\n",
       "      <td>object</td>\n",
       "    </tr>\n",
       "    <tr>\n",
       "      <th>5</th>\n",
       "      <td>Temperature</td>\n",
       "      <td>3</td>\n",
       "      <td>int64</td>\n",
       "    </tr>\n",
       "    <tr>\n",
       "      <th>6</th>\n",
       "      <td>Time</td>\n",
       "      <td>5</td>\n",
       "      <td>object</td>\n",
       "    </tr>\n",
       "    <tr>\n",
       "      <th>7</th>\n",
       "      <td>Coupon</td>\n",
       "      <td>5</td>\n",
       "      <td>object</td>\n",
       "    </tr>\n",
       "    <tr>\n",
       "      <th>8</th>\n",
       "      <td>Coupon_validity</td>\n",
       "      <td>2</td>\n",
       "      <td>object</td>\n",
       "    </tr>\n",
       "    <tr>\n",
       "      <th>9</th>\n",
       "      <td>Gender</td>\n",
       "      <td>2</td>\n",
       "      <td>object</td>\n",
       "    </tr>\n",
       "    <tr>\n",
       "      <th>10</th>\n",
       "      <td>Age</td>\n",
       "      <td>8</td>\n",
       "      <td>object</td>\n",
       "    </tr>\n",
       "    <tr>\n",
       "      <th>11</th>\n",
       "      <td>Maritalstatus</td>\n",
       "      <td>5</td>\n",
       "      <td>object</td>\n",
       "    </tr>\n",
       "    <tr>\n",
       "      <th>12</th>\n",
       "      <td>Children</td>\n",
       "      <td>2</td>\n",
       "      <td>int64</td>\n",
       "    </tr>\n",
       "    <tr>\n",
       "      <th>13</th>\n",
       "      <td>Education</td>\n",
       "      <td>6</td>\n",
       "      <td>object</td>\n",
       "    </tr>\n",
       "    <tr>\n",
       "      <th>14</th>\n",
       "      <td>Occupation</td>\n",
       "      <td>25</td>\n",
       "      <td>object</td>\n",
       "    </tr>\n",
       "    <tr>\n",
       "      <th>15</th>\n",
       "      <td>Income</td>\n",
       "      <td>9</td>\n",
       "      <td>object</td>\n",
       "    </tr>\n",
       "    <tr>\n",
       "      <th>16</th>\n",
       "      <td>Bar</td>\n",
       "      <td>6</td>\n",
       "      <td>float64</td>\n",
       "    </tr>\n",
       "    <tr>\n",
       "      <th>17</th>\n",
       "      <td>Coffeehouse</td>\n",
       "      <td>6</td>\n",
       "      <td>float64</td>\n",
       "    </tr>\n",
       "    <tr>\n",
       "      <th>18</th>\n",
       "      <td>Carryaway</td>\n",
       "      <td>6</td>\n",
       "      <td>float64</td>\n",
       "    </tr>\n",
       "    <tr>\n",
       "      <th>19</th>\n",
       "      <td>Restaurantlessthan20</td>\n",
       "      <td>6</td>\n",
       "      <td>float64</td>\n",
       "    </tr>\n",
       "    <tr>\n",
       "      <th>20</th>\n",
       "      <td>Restaurant20to50</td>\n",
       "      <td>6</td>\n",
       "      <td>float64</td>\n",
       "    </tr>\n",
       "    <tr>\n",
       "      <th>21</th>\n",
       "      <td>Direction_same</td>\n",
       "      <td>2</td>\n",
       "      <td>int64</td>\n",
       "    </tr>\n",
       "    <tr>\n",
       "      <th>22</th>\n",
       "      <td>Distance</td>\n",
       "      <td>3</td>\n",
       "      <td>int64</td>\n",
       "    </tr>\n",
       "  </tbody>\n",
       "</table>\n",
       "</div>"
      ],
      "text/plain": [
       "                  column  count    dtype\n",
       "0                     id  10184    int64\n",
       "1               Decision      2    int64\n",
       "2             Driving_to      3   object\n",
       "3              Passanger      4   object\n",
       "4                Weather      3   object\n",
       "5            Temperature      3    int64\n",
       "6                   Time      5   object\n",
       "7                 Coupon      5   object\n",
       "8        Coupon_validity      2   object\n",
       "9                 Gender      2   object\n",
       "10                   Age      8   object\n",
       "11         Maritalstatus      5   object\n",
       "12              Children      2    int64\n",
       "13             Education      6   object\n",
       "14            Occupation     25   object\n",
       "15                Income      9   object\n",
       "16                   Bar      6  float64\n",
       "17           Coffeehouse      6  float64\n",
       "18             Carryaway      6  float64\n",
       "19  Restaurantlessthan20      6  float64\n",
       "20      Restaurant20to50      6  float64\n",
       "21        Direction_same      2    int64\n",
       "22              Distance      3    int64"
      ]
     },
     "execution_count": 5,
     "metadata": {},
     "output_type": "execute_result"
    }
   ],
   "source": [
    "def find_unique(frame):\n",
    "    unique_values = []\n",
    "    for column_name in frame.columns:\n",
    "        column = frame[column_name]\n",
    "        unique_values.append((column_name, column.unique().shape[0], column.dtype))\n",
    "    return pd.DataFrame(unique_values, columns=['column', 'count', 'dtype'])\n",
    "\n",
    "find_unique(train)"
   ]
  },
  {
   "cell_type": "markdown",
   "metadata": {},
   "source": [
    "https://scikit-learn.org/stable/auto_examples/ensemble/plot_forest_importances.html"
   ]
  },
  {
   "cell_type": "code",
   "execution_count": 6,
   "metadata": {
    "execution": {
     "iopub.execute_input": "2021-12-11T02:59:56.177776Z",
     "iopub.status.busy": "2021-12-11T02:59:56.177113Z",
     "iopub.status.idle": "2021-12-11T02:59:56.184666Z",
     "shell.execute_reply": "2021-12-11T02:59:56.183844Z",
     "shell.execute_reply.started": "2021-12-11T02:59:56.177734Z"
    }
   },
   "outputs": [],
   "source": [
    "x_train, y_train, ids = (\n",
    "    train[train.columns[~np.isin(train.columns, ('Decision', 'id'))]],\n",
    "    train['Decision'], train['id']\n",
    ")\n"
   ]
  },
  {
   "cell_type": "code",
   "execution_count": 7,
   "metadata": {
    "execution": {
     "iopub.execute_input": "2021-12-11T02:59:56.186444Z",
     "iopub.status.busy": "2021-12-11T02:59:56.186217Z",
     "iopub.status.idle": "2021-12-11T03:00:03.639868Z",
     "shell.execute_reply": "2021-12-11T03:00:03.638894Z",
     "shell.execute_reply.started": "2021-12-11T02:59:56.186417Z"
    }
   },
   "outputs": [
    {
     "data": {
      "application/vnd.jupyter.widget-view+json": {
       "model_id": "b56676d8beb844ea9dce78558b48e059",
       "version_major": 2,
       "version_minor": 0
      },
      "text/plain": [
       "  0%|          | 0/86 [00:00<?, ?it/s]"
      ]
     },
     "metadata": {},
     "output_type": "display_data"
    }
   ],
   "source": [
    "x_train_dummies, filled = pd.get_dummies(x_train), {}\n",
    "x_train_not_na = x_train_dummies.dropna()\n",
    "\n",
    "for col in tqdm(x_train_dummies.columns):\n",
    "    x_train_minus_col = x_train_not_na[\n",
    "        x_train_not_na.columns[x_train_not_na.columns != col]]\n",
    "    bnb = BernoulliNB()\n",
    "    bnb.fit(x_train_minus_col, \n",
    "            x_train_not_na.loc[x_train_minus_col.index, col])\n",
    "    pred = bnb.predict(x_train_dummies[x_train_minus_col.columns]\n",
    "                       .fillna(method='ffill'))\n",
    "    filled[col] = pred\n",
    "    \n",
    "x_train_imputed = x_train_dummies.fillna(pd.DataFrame(filled))\n",
    "\n",
    "scaler = MinMaxScaler()\n",
    "x_train_scaled = pd.DataFrame(scaler.fit_transform(x_train_imputed),\n",
    "                              index=x_train_imputed.index,\n",
    "                              columns=x_train_imputed.columns)\n"
   ]
  },
  {
   "cell_type": "code",
   "execution_count": 8,
   "metadata": {
    "execution": {
     "iopub.execute_input": "2021-12-11T03:00:03.649335Z",
     "iopub.status.busy": "2021-12-11T03:00:03.645889Z",
     "iopub.status.idle": "2021-12-11T03:00:03.655524Z",
     "shell.execute_reply": "2021-12-11T03:00:03.654595Z",
     "shell.execute_reply.started": "2021-12-11T03:00:03.649253Z"
    }
   },
   "outputs": [],
   "source": [
    "# tsne = TSNE()\n",
    "# x2d = tsne.fit_transform(x_train_scaled)"
   ]
  },
  {
   "cell_type": "code",
   "execution_count": 9,
   "metadata": {
    "execution": {
     "iopub.execute_input": "2021-12-11T03:00:03.661553Z",
     "iopub.status.busy": "2021-12-11T03:00:03.660695Z",
     "iopub.status.idle": "2021-12-11T03:00:03.671151Z",
     "shell.execute_reply": "2021-12-11T03:00:03.670082Z",
     "shell.execute_reply.started": "2021-12-11T03:00:03.661498Z"
    }
   },
   "outputs": [],
   "source": [
    "# fig, ax = plt.subplots()\n",
    "# ax.scatter(x2d[:, 0], x2d[:, 1], s=3)\n",
    "# ax.set_title('t-SNE reduction')\n",
    "# plt.show()"
   ]
  },
  {
   "cell_type": "code",
   "execution_count": 10,
   "metadata": {
    "execution": {
     "iopub.execute_input": "2021-12-11T03:00:03.680380Z",
     "iopub.status.busy": "2021-12-11T03:00:03.679770Z",
     "iopub.status.idle": "2021-12-11T03:00:03.905476Z",
     "shell.execute_reply": "2021-12-11T03:00:03.904816Z",
     "shell.execute_reply.started": "2021-12-11T03:00:03.680328Z"
    }
   },
   "outputs": [
    {
     "data": {
      "text/plain": [
       "Coupon_Carry out & Take away                     0.162444\n",
       "Coupon_Bar                                       0.146025\n",
       "Coupon_Restaurant(<20)                           0.144975\n",
       "Driving_to_No Urgent Place                       0.133277\n",
       "Passanger_Friend(s)                              0.130095\n",
       "                                                   ...   \n",
       "Occupation_Installation Maintenance & Repair     0.001325\n",
       "Occupation_Farming Fishing & Forestry            0.001296\n",
       "Maritalstatus_Unmarried partner                  0.000723\n",
       "Occupation_Food Preparation & Serving Related    0.000105\n",
       "Occupation_Sales & Related                       0.000032\n",
       "Name: decision, Length: 86, dtype: float64"
      ]
     },
     "execution_count": 10,
     "metadata": {},
     "output_type": "execute_result"
    }
   ],
   "source": [
    "corrs = x_train_imputed.assign(decision=y_train).corr()['decision'].abs().drop('decision').sort_values(ascending=False)\n",
    "corrs"
   ]
  },
  {
   "cell_type": "code",
   "execution_count": 11,
   "metadata": {
    "execution": {
     "iopub.execute_input": "2021-12-11T03:00:03.907603Z",
     "iopub.status.busy": "2021-12-11T03:00:03.907132Z",
     "iopub.status.idle": "2021-12-11T03:00:04.647577Z",
     "shell.execute_reply": "2021-12-11T03:00:04.644783Z",
     "shell.execute_reply.started": "2021-12-11T03:00:03.907559Z"
    }
   },
   "outputs": [
    {
     "data": {
      "text/plain": [
       "<AxesSubplot:>"
      ]
     },
     "execution_count": 11,
     "metadata": {},
     "output_type": "execute_result"
    },
    {
     "data": {
      "image/png": "[encoded data removed]",
      "text/plain": [
       "<Figure size 432x288 with 2 Axes>"
      ]
     },
     "metadata": {
      "needs_background": "light"
     },
     "output_type": "display_data"
    }
   ],
   "source": [
    "fig, ax = plt.subplots()\n",
    "sns.heatmap(x_train_imputed\n",
    "            .assign(decision=y_train)\n",
    "            .loc[:, corrs.index[corrs > 0.075].append(pd.Index(['decision']))]\n",
    "            .corr())"
   ]
  },
  {
   "cell_type": "markdown",
   "metadata": {},
   "source": [
    "# Model 1: Bernoulli Naive Bayes with ICA"
   ]
  },
  {
   "cell_type": "code",
   "execution_count": 12,
   "metadata": {
    "execution": {
     "iopub.execute_input": "2021-12-11T03:27:08.880220Z",
     "iopub.status.busy": "2021-12-11T03:27:08.879932Z",
     "iopub.status.idle": "2021-12-11T03:28:07.902487Z",
     "shell.execute_reply": "2021-12-11T03:28:07.901495Z",
     "shell.execute_reply.started": "2021-12-11T03:27:08.880193Z"
    }
   },
   "outputs": [
    {
     "name": "stderr",
     "output_type": "stream",
     "text": [
      "/home/nimkar/miniconda3/envs/police/lib/python3.9/site-packages/sklearn/decomposition/_fastica.py:116: ConvergenceWarning: FastICA did not converge. Consider increasing tolerance or the maximum number of iterations.\n",
      "  warnings.warn(\n"
     ]
    },
    {
     "data": {
      "text/plain": [
       "0.6512027491408935"
      ]
     },
     "execution_count": 12,
     "metadata": {},
     "output_type": "execute_result"
    }
   ],
   "source": [
    "fast_ica = FastICA(24, max_iter=3000, tol=0.001)\n",
    "x_train_ica = fast_ica.fit_transform(x_train_scaled)\n",
    "X_train_ica, X_test_ica, Y_train_ica, Y_test_ica = train_test_split(\n",
    "    x_train_ica, y_train, train_size=0.6\n",
    ")\n",
    "\n",
    "gnb = GaussianNB()\n",
    "gnb.fit(X_train_ica, Y_train_ica)\n",
    "gnb.score(X_test_ica, Y_test_ica)\n"
   ]
  },
  {
   "cell_type": "code",
   "execution_count": 13,
   "metadata": {
    "execution": {
     "iopub.execute_input": "2021-12-11T03:34:47.383764Z",
     "iopub.status.busy": "2021-12-11T03:34:47.383154Z",
     "iopub.status.idle": "2021-12-11T03:34:47.399261Z",
     "shell.execute_reply": "2021-12-11T03:34:47.398639Z",
     "shell.execute_reply.started": "2021-12-11T03:34:47.383732Z"
    }
   },
   "outputs": [
    {
     "name": "stdout",
     "output_type": "stream",
     "text": [
      "roc auc score: 0.6927067013300584\n",
      "f1 score: 0.7179996030958522\n"
     ]
    }
   ],
   "source": [
    "gnb_pred, gnb_proba = gnb.predict(X_test_ica), gnb.predict_proba(X_test_ica)[:, 1]\n",
    "print('roc auc score:', roc_auc_score(Y_test_ica, gnb_proba))\n",
    "print('f1 score:', f1_score(Y_test_ica, gnb_pred))"
   ]
  },
  {
   "cell_type": "markdown",
   "metadata": {},
   "source": [
    "# Model 2: Logistic Regression with PCA"
   ]
  },
  {
   "cell_type": "markdown",
   "metadata": {},
   "source": [
    "First we shall show the performance of a simple logistic regression model. The performance of more advanced linear classification models such as Ridge classifier were in the similar range as the simple logistic regression in this case"
   ]
  },
  {
   "cell_type": "code",
   "execution_count": 14,
   "metadata": {
    "execution": {
     "iopub.execute_input": "2021-12-11T03:01:02.152084Z",
     "iopub.status.busy": "2021-12-11T03:01:02.146074Z",
     "iopub.status.idle": "2021-12-11T03:01:02.169969Z",
     "shell.execute_reply": "2021-12-11T03:01:02.169022Z",
     "shell.execute_reply.started": "2021-12-11T03:01:02.152016Z"
    }
   },
   "outputs": [],
   "source": [
    "X_train, X_test, Y_train, Y_test = train_test_split(\n",
    "    x_train_scaled, y_train, train_size=0.6, random_state=1)\n"
   ]
  },
  {
   "cell_type": "code",
   "execution_count": 14,
   "metadata": {
    "execution": {
     "iopub.execute_input": "2021-12-11T03:01:02.179125Z",
     "iopub.status.busy": "2021-12-11T03:01:02.176110Z",
     "iopub.status.idle": "2021-12-11T03:01:02.571163Z",
     "shell.execute_reply": "2021-12-11T03:01:02.569668Z",
     "shell.execute_reply.started": "2021-12-11T03:01:02.179058Z"
    }
   },
   "outputs": [],
   "source": [
    "lr = LogisticRegression()\n",
    "lr.fit(X_train.to_numpy(), Y_train.to_numpy())\n",
    "lr.score(X_test, Y_test)"
   ]
  },
  {
   "cell_type": "markdown",
   "metadata": {},
   "source": [
    "We see a significant improvement after applying PCA"
   ]
  },
  {
   "cell_type": "code",
   "execution_count": 15,
   "metadata": {
    "execution": {
     "iopub.execute_input": "2021-12-11T03:35:45.199016Z",
     "iopub.status.busy": "2021-12-11T03:35:45.198696Z",
     "iopub.status.idle": "2021-12-11T03:35:45.349325Z",
     "shell.execute_reply": "2021-12-11T03:35:45.348410Z",
     "shell.execute_reply.started": "2021-12-11T03:35:45.198982Z"
    }
   },
   "outputs": [
    {
     "data": {
      "text/plain": [
       "0.6779577810505646"
      ]
     },
     "execution_count": 15,
     "metadata": {},
     "output_type": "execute_result"
    }
   ],
   "source": [
    "pca = PCA(0.99)\n",
    "x_train_pca = pca.fit_transform(x_train_scaled)\n",
    "X_train_pca, X_test_pca, Y_train_pca, Y_test_pca = train_test_split(\n",
    "    x_train_pca, y_train, train_size=0.6)\n",
    "\n",
    "lr_pca = LogisticRegression(C=1)\n",
    "lr_pca.fit(X_train_pca, Y_train_pca)\n",
    "lr_pca.score(X_test_pca, Y_test_pca)\n"
   ]
  },
  {
   "cell_type": "code",
   "execution_count": 16,
   "metadata": {
    "execution": {
     "iopub.execute_input": "2021-12-11T03:36:18.835693Z",
     "iopub.status.busy": "2021-12-11T03:36:18.834916Z",
     "iopub.status.idle": "2021-12-11T03:36:18.858690Z",
     "shell.execute_reply": "2021-12-11T03:36:18.857716Z",
     "shell.execute_reply.started": "2021-12-11T03:36:18.835651Z"
    }
   },
   "outputs": [
    {
     "name": "stdout",
     "output_type": "stream",
     "text": [
      "roc auc score: 0.7327057493593443\n",
      "f1 score: 0.7290375877736472\n"
     ]
    }
   ],
   "source": [
    "lr_pca_pred, lr_pca_proba = lr_pca.predict(X_test_pca), lr_pca.predict_proba(X_test_pca)[:, 1]\n",
    "print('roc auc score:', roc_auc_score(Y_test_pca, lr_pca_proba))\n",
    "print('f1 score:', f1_score(Y_test_pca, lr_pca_pred))"
   ]
  },
  {
   "cell_type": "markdown",
   "metadata": {},
   "source": [
    "# Restoring the original `X_train`"
   ]
  },
  {
   "cell_type": "code",
   "execution_count": 17,
   "metadata": {
    "execution": {
     "iopub.execute_input": "2021-12-11T03:36:31.370340Z",
     "iopub.status.busy": "2021-12-11T03:36:31.369509Z",
     "iopub.status.idle": "2021-12-11T03:36:31.380693Z",
     "shell.execute_reply": "2021-12-11T03:36:31.380003Z",
     "shell.execute_reply.started": "2021-12-11T03:36:31.370250Z"
    }
   },
   "outputs": [],
   "source": [
    "X_train, X_test, Y_train, Y_test = train_test_split(\n",
    "    x_train_scaled, y_train, train_size=0.6, random_state=1)\n"
   ]
  },
  {
   "cell_type": "markdown",
   "metadata": {},
   "source": [
    "# Deriving sample weights"
   ]
  },
  {
   "cell_type": "code",
   "execution_count": 18,
   "metadata": {
    "execution": {
     "iopub.execute_input": "2021-12-11T03:04:34.766710Z",
     "iopub.status.busy": "2021-12-11T03:04:34.766162Z",
     "iopub.status.idle": "2021-12-11T03:04:41.424950Z",
     "shell.execute_reply": "2021-12-11T03:04:41.424353Z",
     "shell.execute_reply.started": "2021-12-11T03:04:34.766663Z"
    }
   },
   "outputs": [
    {
     "name": "stderr",
     "output_type": "stream",
     "text": [
      "/home/nimkar/miniconda3/envs/police/lib/python3.9/site-packages/sklearn/base.py:441: UserWarning: X does not have valid feature names, but KNeighborsClassifier was fitted with feature names\n",
      "  warnings.warn(\n"
     ]
    },
    {
     "name": "stdout",
     "output_type": "stream",
     "text": [
      "0.19574468085106383\n"
     ]
    }
   ],
   "source": [
    "knn = KNeighborsClassifier()\n",
    "knn.fit(X_train, Y_train)\n",
    "Y_pred_knn = knn.predict(X_train)\n",
    "print((Y_train != Y_pred_knn).mean())\n",
    "\n",
    "Sample_weight = np.where(Y_train != Y_pred_knn, 2, 1)\n",
    "Sample_weight = Sample_weight / Sample_weight.sum()"
   ]
  },
  {
   "cell_type": "markdown",
   "metadata": {},
   "source": [
    "# Model 3: Random forest classifier"
   ]
  },
  {
   "cell_type": "code",
   "execution_count": 19,
   "metadata": {
    "execution": {
     "iopub.execute_input": "2021-12-11T03:04:41.426873Z",
     "iopub.status.busy": "2021-12-11T03:04:41.426460Z",
     "iopub.status.idle": "2021-12-11T03:05:58.892125Z",
     "shell.execute_reply": "2021-12-11T03:05:58.891259Z",
     "shell.execute_reply.started": "2021-12-11T03:04:41.426838Z"
    }
   },
   "outputs": [
    {
     "data": {
      "application/vnd.jupyter.widget-view+json": {
       "model_id": "d8c7dddf8ce0424bb1ab840ee864a038",
       "version_major": 2,
       "version_minor": 0
      },
      "text/plain": [
       "  0%|          | 0/8 [00:00<?, ?it/s]"
      ]
     },
     "metadata": {},
     "output_type": "display_data"
    },
    {
     "data": {
      "application/vnd.jupyter.widget-view+json": {
       "model_id": "485acc15f6d9491e9eedc40e43ee85fb",
       "version_major": 2,
       "version_minor": 0
      },
      "text/plain": [
       "  0%|          | 0/6 [00:00<?, ?it/s]"
      ]
     },
     "metadata": {},
     "output_type": "display_data"
    },
    {
     "data": {
      "application/vnd.jupyter.widget-view+json": {
       "model_id": "960d60421c0c44c881eda93470f85b4e",
       "version_major": 2,
       "version_minor": 0
      },
      "text/plain": [
       "  0%|          | 0/6 [00:00<?, ?it/s]"
      ]
     },
     "metadata": {},
     "output_type": "display_data"
    },
    {
     "data": {
      "application/vnd.jupyter.widget-view+json": {
       "model_id": "58cb0e6745d44ca9b90b3f6aeac5e752",
       "version_major": 2,
       "version_minor": 0
      },
      "text/plain": [
       "  0%|          | 0/6 [00:00<?, ?it/s]"
      ]
     },
     "metadata": {},
     "output_type": "display_data"
    },
    {
     "data": {
      "application/vnd.jupyter.widget-view+json": {
       "model_id": "4b3ea17996b44293b9a48e081381d642",
       "version_major": 2,
       "version_minor": 0
      },
      "text/plain": [
       "  0%|          | 0/6 [00:00<?, ?it/s]"
      ]
     },
     "metadata": {},
     "output_type": "display_data"
    },
    {
     "data": {
      "application/vnd.jupyter.widget-view+json": {
       "model_id": "909b7e5e12f34503b6c3bb1701e5731f",
       "version_major": 2,
       "version_minor": 0
      },
      "text/plain": [
       "  0%|          | 0/6 [00:00<?, ?it/s]"
      ]
     },
     "metadata": {},
     "output_type": "display_data"
    },
    {
     "data": {
      "application/vnd.jupyter.widget-view+json": {
       "model_id": "1d29cdea723e493a908101de1ff1dbcb",
       "version_major": 2,
       "version_minor": 0
      },
      "text/plain": [
       "  0%|          | 0/6 [00:00<?, ?it/s]"
      ]
     },
     "metadata": {},
     "output_type": "display_data"
    },
    {
     "data": {
      "application/vnd.jupyter.widget-view+json": {
       "model_id": "1b574c85f86d4c718b9146288f15f115",
       "version_major": 2,
       "version_minor": 0
      },
      "text/plain": [
       "  0%|          | 0/6 [00:00<?, ?it/s]"
      ]
     },
     "metadata": {},
     "output_type": "display_data"
    },
    {
     "data": {
      "application/vnd.jupyter.widget-view+json": {
       "model_id": "3a1f6e0c2bc04812841c4fac3f869fe5",
       "version_major": 2,
       "version_minor": 0
      },
      "text/plain": [
       "  0%|          | 0/6 [00:00<?, ?it/s]"
      ]
     },
     "metadata": {},
     "output_type": "display_data"
    }
   ],
   "source": [
    "n_estimator_score = []\n",
    "for md in tqdm((256, 128, 64, 32, 16, 8, 4, 2)):\n",
    "    for ne in tqdm((30, 54, 100, 180, 300, 540)):\n",
    "        forest = RandomForestClassifier(\n",
    "            n_estimators=ne, random_state=2, min_samples_split=3,\n",
    "            max_depth=md\n",
    "        )\n",
    "        forest.fit(X_train, Y_train, sample_weight=Sample_weight)\n",
    "        score = forest.score(X_test, Y_test)\n",
    "        n_estimator_score.append((ne, md, score))"
   ]
  },
  {
   "cell_type": "code",
   "execution_count": 20,
   "metadata": {
    "execution": {
     "iopub.execute_input": "2021-12-11T03:05:58.893563Z",
     "iopub.status.busy": "2021-12-11T03:05:58.893328Z",
     "iopub.status.idle": "2021-12-11T03:05:58.899204Z",
     "shell.execute_reply": "2021-12-11T03:05:58.898243Z",
     "shell.execute_reply.started": "2021-12-11T03:05:58.893533Z"
    }
   },
   "outputs": [],
   "source": [
    "nescore = pd.DataFrame(n_estimator_score, columns=['n_estimator', 'max_depth', 'score'])"
   ]
  },
  {
   "cell_type": "code",
   "execution_count": 21,
   "metadata": {
    "execution": {
     "iopub.execute_input": "2021-12-11T03:05:58.901531Z",
     "iopub.status.busy": "2021-12-11T03:05:58.900707Z",
     "iopub.status.idle": "2021-12-11T03:05:58.939813Z",
     "shell.execute_reply": "2021-12-11T03:05:58.938912Z",
     "shell.execute_reply.started": "2021-12-11T03:05:58.901484Z"
    }
   },
   "outputs": [
    {
     "name": "stdout",
     "output_type": "stream",
     "text": [
      "\\begin{tabular}{lrrrrrrrr}\n",
      "\\toprule\n",
      "max\\_depth &       2   &       4   &       8   &       16  &       32  &       64  &       128 &       256 \\\\\n",
      "n\\_estimator &           &           &           &           &           &           &           &           \\\\\n",
      "\\midrule\n",
      "30          &  0.608493 &  0.674767 &  0.704222 &  0.723368 &  0.725331 &  0.728522 &  0.728522 &  0.728522 \\\\\n",
      "54          &  0.620275 &  0.679431 &  0.710604 &  0.733922 &  0.734659 &  0.734413 &  0.734413 &  0.734413 \\\\\n",
      "100         &  0.623466 &  0.684094 &  0.716249 &  0.735641 &  0.737850 &  0.738832 &  0.738832 &  0.738832 \\\\\n",
      "180         &  0.619784 &  0.683358 &  0.720668 &  0.735886 &  0.740304 &  0.742268 &  0.742268 &  0.742268 \\\\\n",
      "300         &  0.616593 &  0.681640 &  0.719440 &  0.737850 &  0.741532 &  0.742023 &  0.742023 &  0.742023 \\\\\n",
      "540         &  0.617329 &  0.680167 &  0.720668 &  0.739813 &  0.739323 &  0.739323 &  0.739323 &  0.739323 \\\\\n",
      "\\bottomrule\n",
      "\\end{tabular}\n",
      "\n"
     ]
    }
   ],
   "source": [
    "print(nescore\n",
    "      .groupby(['n_estimator', 'max_depth'])\n",
    "      .agg({'score': 'mean'})\n",
    "      .unstack()\n",
    "      .droplevel(0, axis=1)\n",
    "      .to_latex())\n"
   ]
  },
  {
   "cell_type": "code",
   "execution_count": 22,
   "metadata": {
    "execution": {
     "iopub.execute_input": "2021-12-11T03:36:46.748408Z",
     "iopub.status.busy": "2021-12-11T03:36:46.747527Z",
     "iopub.status.idle": "2021-12-11T03:37:17.861909Z",
     "shell.execute_reply": "2021-12-11T03:37:17.861186Z",
     "shell.execute_reply.started": "2021-12-11T03:36:46.748370Z"
    }
   },
   "outputs": [
    {
     "data": {
      "text/plain": [
       "0.7417771232204222"
      ]
     },
     "execution_count": 22,
     "metadata": {},
     "output_type": "execute_result"
    }
   ],
   "source": [
    "big_forest = RandomForestClassifier(\n",
    "    n_estimators=3000, max_depth=128, min_samples_split=3)\n",
    "big_forest.fit(X_train, Y_train)\n",
    "big_forest.score(X_test, Y_test)"
   ]
  },
  {
   "cell_type": "code",
   "execution_count": 23,
   "metadata": {
    "execution": {
     "iopub.execute_input": "2021-12-11T03:38:33.015587Z",
     "iopub.status.busy": "2021-12-11T03:38:33.015324Z",
     "iopub.status.idle": "2021-12-11T03:38:38.962481Z",
     "shell.execute_reply": "2021-12-11T03:38:38.961564Z",
     "shell.execute_reply.started": "2021-12-11T03:38:33.015552Z"
    }
   },
   "outputs": [
    {
     "name": "stdout",
     "output_type": "stream",
     "text": [
      "roc auc score: 0.8087146542777136\n",
      "f1 score: 0.786178861788618\n"
     ]
    }
   ],
   "source": [
    "big_forest_pred, big_forest_proba = (\n",
    "    big_forest.predict(X_test), big_forest.predict_proba(X_test)[:, 1])\n",
    "print('roc auc score:', roc_auc_score(Y_test, big_forest_proba))\n",
    "print('f1 score:', f1_score(Y_test, big_forest_pred))"
   ]
  },
  {
   "cell_type": "code",
   "execution_count": 24,
   "metadata": {
    "execution": {
     "iopub.execute_input": "2021-12-11T03:06:30.370770Z",
     "iopub.status.busy": "2021-12-11T03:06:30.370311Z",
     "iopub.status.idle": "2021-12-11T03:06:30.932347Z",
     "shell.execute_reply": "2021-12-11T03:06:30.931440Z",
     "shell.execute_reply.started": "2021-12-11T03:06:30.370727Z"
    }
   },
   "outputs": [],
   "source": [
    "importances = big_forest.feature_importances_\n",
    "std = np.std([tree.feature_importances_ for tree in big_forest.estimators_], axis=0)\n",
    "importance_frame = (\n",
    "    pd.DataFrame({'importances': importances, 'yerr': std}, \n",
    "                 index=x_train_scaled.columns)\n",
    "    .sort_values('importances', ascending=False)\n",
    ")"
   ]
  },
  {
   "cell_type": "code",
   "execution_count": 25,
   "metadata": {
    "execution": {
     "iopub.execute_input": "2021-12-11T03:06:30.934750Z",
     "iopub.status.busy": "2021-12-11T03:06:30.934511Z",
     "iopub.status.idle": "2021-12-11T03:06:31.223903Z",
     "shell.execute_reply": "2021-12-11T03:06:31.223055Z",
     "shell.execute_reply.started": "2021-12-11T03:06:30.934720Z"
    }
   },
   "outputs": [
    {
     "data": {
      "image/png": "[encoded data removed]",
      "text/plain": [
       "<Figure size 432x288 with 1 Axes>"
      ]
     },
     "metadata": {
      "needs_background": "light"
     },
     "output_type": "display_data"
    }
   ],
   "source": [
    "fig, ax = plt.subplots()\n",
    "importance_frame.head(16).plot.bar(yerr='yerr', ax=ax)\n",
    "ax.set_title('Random forest feature importance plot')\n",
    "plt.show()"
   ]
  },
  {
   "cell_type": "markdown",
   "metadata": {},
   "source": [
    "# Model 4: Gradient boosting classifier\n",
    "\n",
    "Unfortunately, I deleted the cell where I searched for the optimal parameters using GridSearchCV. However, I had saved the output of the cell in an image which is attached in the project write-up."
   ]
  },
  {
   "cell_type": "code",
   "execution_count": 26,
   "metadata": {
    "execution": {
     "iopub.execute_input": "2021-12-11T03:06:31.226213Z",
     "iopub.status.busy": "2021-12-11T03:06:31.225485Z",
     "iopub.status.idle": "2021-12-11T03:06:48.376206Z",
     "shell.execute_reply": "2021-12-11T03:06:48.375276Z",
     "shell.execute_reply.started": "2021-12-11T03:06:31.226174Z"
    }
   },
   "outputs": [
    {
     "data": {
      "text/plain": [
       "0.7538046146293569"
      ]
     },
     "execution_count": 26,
     "metadata": {},
     "output_type": "execute_result"
    }
   ],
   "source": [
    "gbcf = GradientBoostingClassifier(\n",
    "    max_depth=None, min_samples_split=8, learning_rate=0.018, \n",
    "    n_estimators=400, random_state=2, subsample=0.3\n",
    ")\n",
    "gbcf.fit(X_train, Y_train, sample_weight=Sample_weight)\n",
    "gbcf.score(X_test, Y_test)"
   ]
  },
  {
   "cell_type": "code",
   "execution_count": 27,
   "metadata": {
    "execution": {
     "iopub.execute_input": "2021-12-11T03:40:21.622944Z",
     "iopub.status.busy": "2021-12-11T03:40:21.622657Z",
     "iopub.status.idle": "2021-12-11T03:40:22.024628Z",
     "shell.execute_reply": "2021-12-11T03:40:22.023832Z",
     "shell.execute_reply.started": "2021-12-11T03:40:21.622915Z"
    }
   },
   "outputs": [
    {
     "name": "stdout",
     "output_type": "stream",
     "text": [
      "roc auc score: 0.8239727955431101\n",
      "f1 score: 0.7915194346289751\n"
     ]
    }
   ],
   "source": [
    "gbcf_pred, gbcf_proba = (\n",
    "    gbcf.predict(X_test), gbcf.predict_proba(X_test)[:, 1])\n",
    "print('roc auc score:', roc_auc_score(Y_test, gbcf_proba))\n",
    "print('f1 score:', f1_score(Y_test, gbcf_pred))"
   ]
  },
  {
   "cell_type": "markdown",
   "metadata": {},
   "source": [
    "# Loading and preparing the test data"
   ]
  },
  {
   "cell_type": "code",
   "execution_count": 29,
   "metadata": {
    "execution": {
     "iopub.execute_input": "2021-12-11T03:06:48.378567Z",
     "iopub.status.busy": "2021-12-11T03:06:48.377997Z",
     "iopub.status.idle": "2021-12-11T03:06:50.579152Z",
     "shell.execute_reply": "2021-12-11T03:06:50.578066Z",
     "shell.execute_reply.started": "2021-12-11T03:06:48.378534Z"
    }
   },
   "outputs": [
    {
     "data": {
      "application/vnd.jupyter.widget-view+json": {
       "model_id": "dab1254e2dda46339cdff955e88c8d33",
       "version_major": 2,
       "version_minor": 0
      },
      "text/plain": [
       "  0%|          | 0/86 [00:00<?, ?it/s]"
      ]
     },
     "metadata": {},
     "output_type": "display_data"
    }
   ],
   "source": [
    "test = pd.read_csv('data/test.csv')\n",
    "\n",
    "x_test = test[test.columns[test.columns != 'id']]\n",
    "test_id = test['id']\n",
    "\n",
    "x_test_dummies, filled = pd.get_dummies(x_test), {}\n",
    "x_test_not_na = x_test_dummies.dropna()\n",
    "\n",
    "for col in tqdm(x_test_dummies.columns):\n",
    "    x_test_minus_col = x_test_not_na[\n",
    "        x_test_not_na.columns[x_test_not_na.columns != col]]\n",
    "    bnb = BernoulliNB()\n",
    "    bnb.fit(x_test_minus_col, \n",
    "            x_test_not_na.loc[x_test_minus_col.index, col])\n",
    "    pred = bnb.predict(x_test_dummies[x_test_minus_col.columns]\n",
    "                       .fillna(method='ffill'))\n",
    "    filled[col] = pred\n",
    "    \n",
    "x_test_imputed = x_test_dummies.fillna(pd.DataFrame(filled))\n",
    "x_test_scaled = pd.DataFrame(scaler.transform(x_test_imputed),\n",
    "                             index=x_test_imputed.index,\n",
    "                             columns=x_test_imputed.columns)\n",
    "\n",
    "x_test_scaled = x_test_scaled.loc[:, x_train_scaled.columns]"
   ]
  },
  {
   "cell_type": "markdown",
   "metadata": {},
   "source": [
    "# Training the final classifier on the complete training data\n",
    "\n",
    "We are using the parameters obtained earlier directly to train the new classifier"
   ]
  },
  {
   "cell_type": "code",
   "execution_count": 30,
   "metadata": {
    "execution": {
     "iopub.execute_input": "2021-12-11T03:06:50.581819Z",
     "iopub.status.busy": "2021-12-11T03:06:50.581174Z",
     "iopub.status.idle": "2021-12-11T03:07:10.789772Z",
     "shell.execute_reply": "2021-12-11T03:07:10.788809Z",
     "shell.execute_reply.started": "2021-12-11T03:06:50.581757Z"
    }
   },
   "outputs": [
    {
     "name": "stderr",
     "output_type": "stream",
     "text": [
      "/home/nimkar/miniconda3/envs/police/lib/python3.9/site-packages/sklearn/base.py:441: UserWarning: X does not have valid feature names, but KNeighborsClassifier was fitted with feature names\n",
      "  warnings.warn(\n"
     ]
    },
    {
     "name": "stdout",
     "output_type": "stream",
     "text": [
      "0.1923605655930872\n"
     ]
    }
   ],
   "source": [
    "knn = KNeighborsClassifier()\n",
    "knn.fit(x_train_scaled, y_train)\n",
    "y_pred_knn = knn.predict(x_train_scaled)\n",
    "print((y_train != y_pred_knn).mean())\n",
    "\n",
    "sample_weight = np.where(y_train != y_pred_knn, 2, 1)\n",
    "sample_weight = sample_weight / sample_weight.sum()"
   ]
  },
  {
   "cell_type": "code",
   "execution_count": 31,
   "metadata": {
    "execution": {
     "iopub.execute_input": "2021-12-11T03:07:10.791296Z",
     "iopub.status.busy": "2021-12-11T03:07:10.790859Z",
     "iopub.status.idle": "2021-12-11T03:07:42.710241Z",
     "shell.execute_reply": "2021-12-11T03:07:42.709345Z",
     "shell.execute_reply.started": "2021-12-11T03:07:10.791267Z"
    }
   },
   "outputs": [
    {
     "name": "stdout",
     "output_type": "stream",
     "text": [
      "trained in 21.044183492660522 seconds\n"
     ]
    }
   ],
   "source": [
    "start = time.time()\n",
    "gbcf_final = GradientBoostingClassifier(\n",
    "    max_depth=None, min_samples_split=3, learning_rate=0.018, \n",
    "    n_estimators=250, random_state=2, subsample=0.3\n",
    ")\n",
    "gbcf_final.fit(x_train_scaled, y_train, sample_weight=sample_weight)\n",
    "elapsed = time.time() - start\n",
    "print(f'trained in {elapsed} seconds')"
   ]
  },
  {
   "cell_type": "code",
   "execution_count": 32,
   "metadata": {
    "execution": {
     "iopub.execute_input": "2021-12-11T03:07:42.712314Z",
     "iopub.status.busy": "2021-12-11T03:07:42.711612Z",
     "iopub.status.idle": "2021-12-11T03:08:29.557612Z",
     "shell.execute_reply": "2021-12-11T03:08:29.556495Z",
     "shell.execute_reply.started": "2021-12-11T03:07:42.712276Z"
    }
   },
   "outputs": [
    {
     "name": "stdout",
     "output_type": "stream",
     "text": [
      "trained in 31.831401348114014 seconds\n"
     ]
    }
   ],
   "source": [
    "start = time.time()\n",
    "final_big_forest = RandomForestClassifier(\n",
    "    n_estimators=3000, max_depth=128, min_samples_split=3)\n",
    "final_big_forest.fit(x_train_scaled, y_train, sample_weight=sample_weight)\n",
    "elapsed = time.time() - start\n",
    "print(f'trained in {elapsed} seconds')"
   ]
  },
  {
   "cell_type": "markdown",
   "metadata": {},
   "source": [
    "# Obtaining the prediction on test data"
   ]
  },
  {
   "cell_type": "code",
   "execution_count": 36,
   "metadata": {
    "execution": {
     "iopub.execute_input": "2021-12-11T03:08:29.559356Z",
     "iopub.status.busy": "2021-12-11T03:08:29.559045Z",
     "iopub.status.idle": "2021-12-11T03:08:29.684187Z",
     "shell.execute_reply": "2021-12-11T03:08:29.683152Z",
     "shell.execute_reply.started": "2021-12-11T03:08:29.559315Z"
    }
   },
   "outputs": [],
   "source": [
    "preds = gbcf_final.predict(x_test_scaled)\n",
    "pd.DataFrame({'id': test_id, 'Decision': preds}).set_index('id').to_csv('output_gcbf.csv')"
   ]
  },
  {
   "cell_type": "code",
   "execution_count": 37,
   "metadata": {},
   "outputs": [],
   "source": [
    "preds = final_big_forest.predict(x_test_scaled)\n",
    "pd.DataFrame({'id': test_id, 'Decision': preds}).set_index('id').to_csv('output_forest.csv')"
   ]
  },
  {
   "cell_type": "code",
   "execution_count": null,
   "metadata": {},
   "outputs": [],
   "source": []
  }
 ],
 "metadata": {
  "kernelspec": {
   "display_name": "Python 3 (ipykernel)",
   "language": "python",
   "name": "python3"
  },
  "language_info": {
   "codemirror_mode": {
    "name": "ipython",
    "version": 3
   },
   "file_extension": ".py",
   "mimetype": "text/x-python",
   "name": "python",
   "nbconvert_exporter": "python",
   "pygments_lexer": "ipython3",
   "version": "3.9.7"
  }
 },
 "nbformat": 4,
 "nbformat_minor": 4
}
